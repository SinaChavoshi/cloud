{
 "cells": [
  {
   "cell_type": "code",
   "execution_count": null,
   "metadata": {},
   "outputs": [],
   "source": [
    "# Copyright 2020 Google LLC. All Rights Reserved.\n",
    "#\n",
    "# Licensed under the Apache License, Version 2.0 (the \"License\");\n",
    "# you may not use this file except in compliance with the License.\n",
    "# You may obtain a copy of the License at\n",
    "#\n",
    "#     http://www.apache.org/licenses/LICENSE-2.0\n",
    "#\n",
    "# Unless required by applicable law or agreed to in writing, software\n",
    "# distributed under the License is distributed on an \"AS IS\" BASIS,\n",
    "# WITHOUT WARRANTIES OR CONDITIONS OF ANY KIND, either express or implied.\n",
    "# See the License for the specific language governing permissions and\n",
    "# limitations under the License."
   ]
  },
  {
   "cell_type": "code",
   "execution_count": null,
   "metadata": {
    "colab": {
     "base_uri": "https://localhost:8080/",
     "height": 581
    },
    "colab_type": "code",
    "executionInfo": {
     "elapsed": 36224,
     "status": "ok",
     "timestamp": 1570947552022,
     "user": {
      "displayName": "Pavithra Vijay",
      "photoUrl": "https://lh3.googleusercontent.com/a-/AAuE7mCh2apAZ8vRVYP_uDjGxE__Y7ObTOBZwrhfInacDA=s64",
      "userId": "18065809334000934488"
     },
     "user_tz": 420
    },
    "id": "IKM0S_bItwbO",
    "outputId": "48af0ecd-04ef-4393-c335-8daeb9ba777d"
   },
   "outputs": [],
   "source": [
    "!pip install tensorflow==2.0.0-rc0"
   ]
  },
  {
   "cell_type": "code",
   "execution_count": null,
   "metadata": {
    "colab": {
     "base_uri": "https://localhost:8080/",
     "height": 442
    },
    "colab_type": "code",
    "executionInfo": {
     "elapsed": 39867,
     "status": "ok",
     "timestamp": 1570947555670,
     "user": {
      "displayName": "Pavithra Vijay",
      "photoUrl": "https://lh3.googleusercontent.com/a-/AAuE7mCh2apAZ8vRVYP_uDjGxE__Y7ObTOBZwrhfInacDA=s64",
      "userId": "18065809334000934488"
     },
     "user_tz": 420
    },
    "id": "gf0xvpJHxJD5",
    "outputId": "9fea51f5-6a3a-43cd-ded5-b38aefcfd87c"
   },
   "outputs": [],
   "source": [
    "!pip install tensorflow-datasets"
   ]
  },
  {
   "cell_type": "markdown",
   "metadata": {
    "colab_type": "text",
    "id": "deEdx3lewmwm"
   },
   "source": [
    "Minist distribution strategy example\n",
    "\n",
    "```\n",
    "# This is formatted as code\n",
    "```\n",
    "\n"
   ]
  },
  {
   "cell_type": "code",
   "execution_count": null,
   "metadata": {
    "colab": {},
    "colab_type": "code",
    "id": "_ZFrPLh4wgCf"
   },
   "outputs": [],
   "source": [
    "import tensorflow_datasets as tfds\n",
    "import tensorflow as tf\n",
    "\n",
    "import os"
   ]
  },
  {
   "cell_type": "code",
   "execution_count": null,
   "metadata": {
    "colab": {
     "base_uri": "https://localhost:8080/",
     "height": 34
    },
    "colab_type": "code",
    "executionInfo": {
     "elapsed": 327,
     "status": "ok",
     "timestamp": 1570947570630,
     "user": {
      "displayName": "Pavithra Vijay",
      "photoUrl": "https://lh3.googleusercontent.com/a-/AAuE7mCh2apAZ8vRVYP_uDjGxE__Y7ObTOBZwrhfInacDA=s64",
      "userId": "18065809334000934488"
     },
     "user_tz": 420
    },
    "id": "1GWxC4hMw5WR",
    "outputId": "fd28b599-c66e-4fd0-9fdf-3cb0f160e8aa"
   },
   "outputs": [],
   "source": [
    "tfds.disable_progress_bar()\n",
    "print(tf.__version__)"
   ]
  },
  {
   "cell_type": "code",
   "execution_count": null,
   "metadata": {
    "colab": {
     "base_uri": "https://localhost:8080/",
     "height": 360
    },
    "colab_type": "code",
    "executionInfo": {
     "elapsed": 25770,
     "status": "ok",
     "timestamp": 1570947598272,
     "user": {
      "displayName": "Pavithra Vijay",
      "photoUrl": "https://lh3.googleusercontent.com/a-/AAuE7mCh2apAZ8vRVYP_uDjGxE__Y7ObTOBZwrhfInacDA=s64",
      "userId": "18065809334000934488"
     },
     "user_tz": 420
    },
    "id": "acYpjdURw8Gj",
    "outputId": "a23dd023-c7d4-4d54-e38b-20d5896cb87d"
   },
   "outputs": [],
   "source": [
    "datasets, info = tfds.load(name='mnist', with_info=True, as_supervised=True)\n",
    "mnist_train, mnist_test = datasets['train'], datasets['test']\n",
    "\n",
    "num_train_examples = info.splits['train'].num_examples\n",
    "num_test_examples = info.splits['test'].num_examples\n",
    "\n",
    "BUFFER_SIZE = 10000\n",
    "BATCH_SIZE = 64\n",
    "\n",
    "def scale(image, label):\n",
    "  image = tf.cast(image, tf.float32)\n",
    "  image /= 255\n",
    "  return image, label\n",
    "\n",
    "train_dataset = mnist_train.map(scale).cache().shuffle(BUFFER_SIZE).batch(BATCH_SIZE)\n",
    "eval_dataset = mnist_test.map(scale).batch(BATCH_SIZE)"
   ]
  },
  {
   "cell_type": "code",
   "execution_count": null,
   "metadata": {
    "colab": {},
    "colab_type": "code",
    "id": "lV6720lOxAC1"
   },
   "outputs": [],
   "source": [
    "model = tf.keras.Sequential([\n",
    "    tf.keras.layers.Conv2D(32, 3, activation='relu', input_shape=(28, 28, 1)),\n",
    "    tf.keras.layers.MaxPooling2D(),\n",
    "    tf.keras.layers.Flatten(),\n",
    "    tf.keras.layers.Dense(64, activation='relu'),\n",
    "    tf.keras.layers.Dense(10, activation='softmax')\n",
    "])"
   ]
  },
  {
   "cell_type": "code",
   "execution_count": null,
   "metadata": {
    "colab": {},
    "colab_type": "code",
    "id": "coRDywx6xC_h"
   },
   "outputs": [],
   "source": [
    "model.compile(loss='sparse_categorical_crossentropy',\n",
    "              optimizer=tf.keras.optimizers.Adam(),\n",
    "              metrics=['accuracy'])"
   ]
  },
  {
   "cell_type": "code",
   "execution_count": null,
   "metadata": {
    "colab": {
     "base_uri": "https://localhost:8080/",
     "height": 426
    },
    "colab_type": "code",
    "executionInfo": {
     "elapsed": 98738,
     "status": "error",
     "timestamp": 1570947716465,
     "user": {
      "displayName": "Pavithra Vijay",
      "photoUrl": "https://lh3.googleusercontent.com/a-/AAuE7mCh2apAZ8vRVYP_uDjGxE__Y7ObTOBZwrhfInacDA=s64",
      "userId": "18065809334000934488"
     },
     "user_tz": 420
    },
    "id": "yinE5hjQxFJ5",
    "outputId": "1ec5f540-6772-4f38-e203-c997b40d6518"
   },
   "outputs": [],
   "source": [
    "history = model.fit(train_dataset, epochs=12)\n",
    "print(history)"
   ]
  }
 ],
 "metadata": {
  "colab": {
   "name": "mnist_colab.ipynb",
   "provenance": []
  },
  "environment": {
   "name": "tf2-gpu.2-1.m47",
   "type": "gcloud",
   "uri": "gcr.io/deeplearning-platform-release/tf2-gpu.2-1:m47"
  },
  "kernelspec": {
   "display_name": "Python 3",
   "language": "python",
   "name": "python3"
  },
  "language_info": {
   "codemirror_mode": {
    "name": "ipython",
    "version": 3
   },
   "file_extension": ".py",
   "mimetype": "text/x-python",
   "name": "python",
   "nbconvert_exporter": "python",
   "pygments_lexer": "ipython3",
   "version": "3.7.6"
  }
 },
 "nbformat": 4,
 "nbformat_minor": 4
}
